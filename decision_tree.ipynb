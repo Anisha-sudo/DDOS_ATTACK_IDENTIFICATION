{
 "cells": [
  {
   "cell_type": "code",
   "execution_count": 1,
   "id": "a4fdcc8c",
   "metadata": {},
   "outputs": [],
   "source": [
    "import pandas as pd\n",
    "Xtrain = pd.read_csv('C:\\\\Users\\\\adwai\\\\OneDrive\\\\Desktop\\\\Xtrain.csv')\n",
    "\n",
    "Ytrain = pd.read_csv('C:\\\\Users\\\\adwai\\\\OneDrive\\\\Desktop\\\\Ytrain.csv')\n",
    "\n",
    "Xtest = pd.read_csv('C:\\\\Users\\\\adwai\\\\OneDrive\\\\Desktop\\\\testt.csv')"
   ]
  },
  {
   "cell_type": "code",
   "execution_count": 3,
   "id": "0f0677a5",
   "metadata": {},
   "outputs": [],
   "source": [
    "import pandas as pd\n",
    "import numpy as np\n",
    "import matplotlib.pyplot as plt\n",
    "import seaborn as sns\n",
    "from tqdm.notebook import tqdm_notebook\n",
    "from sklearn import preprocessing\n",
    "from sklearn.feature_selection import SelectFromModel\n",
    "from sklearn.ensemble import RandomForestClassifier\n",
    "from sklearn.linear_model import LogisticRegression\n",
    "from tqdm import tqdm_notebook as tqdm\n",
    "#from xgboost import XGBClassifier\n",
    "from sklearn.model_selection import RandomizedSearchCV\n",
    "from sklearn.tree import DecisionTreeClassifier\n",
    "from sklearn.model_selection import train_test_split\n",
    "from sklearn.preprocessing import Normalizer\n",
    "from sklearn.metrics import f1_score\n",
    "from sklearn.metrics import plot_confusion_matrix\n",
    "from sklearn.ensemble import AdaBoostClassifier\n",
    "from sklearn.neural_network import MLPClassifier\n",
    "# from sklearn.model_selection import cross_val_score\n",
    "from sklearn.model_selection import cross_validate\n",
    "from sklearn.naive_bayes import GaussianNB\n",
    "from sklearn import svm\n",
    "\n",
    "import pickle\n",
    "import random\n",
    "import warnings\n",
    "warnings.filterwarnings('ignore')"
   ]
  },
  {
   "cell_type": "code",
   "execution_count": 4,
   "id": "e0322919",
   "metadata": {},
   "outputs": [
    {
     "name": "stdout",
     "output_type": "stream",
     "text": [
      "Fitting 2 folds for each of 10 candidates, totalling 20 fits\n",
      "CPU times: total: 2min 2s\n",
      "Wall time: 40min 14s\n"
     ]
    },
    {
     "data": {
      "text/plain": [
       "RandomizedSearchCV(cv=2, estimator=DecisionTreeClassifier(), n_jobs=3,\n",
       "                   param_distributions={'max_depth': [3, 5, 8, None],\n",
       "                                        'max_features': ['auto', 'log2', None]},\n",
       "                   scoring='f1', verbose=1)"
      ]
     },
     "execution_count": 4,
     "metadata": {},
     "output_type": "execute_result"
    }
   ],
   "source": [
    "%%time\n",
    "from scipy.stats import randint\n",
    "\n",
    "params = {'max_depth' : [3,5,8,None],\n",
    "         'max_features': ['auto','log2',None],\n",
    "         }\n",
    "x_clf_5 = DecisionTreeClassifier()\n",
    "\n",
    "random_clf_5 = RandomizedSearchCV(x_clf_5, param_distributions=params, scoring='f1', verbose=1, cv=2, n_jobs=3)\n",
    "random_clf_5.fit(Xtrain,Ytrain)"
   ]
  },
  {
   "cell_type": "code",
   "execution_count": 5,
   "id": "b86af9be",
   "metadata": {},
   "outputs": [
    {
     "name": "stdout",
     "output_type": "stream",
     "text": [
      "{'max_features': 'auto', 'max_depth': None}\n",
      "0.9560164535458244\n"
     ]
    }
   ],
   "source": [
    "print(random_clf_5.best_params_)\n",
    "print(random_clf_5.best_score_)"
   ]
  },
  {
   "cell_type": "code",
   "execution_count": 6,
   "id": "41bc54e2",
   "metadata": {},
   "outputs": [
    {
     "data": {
      "text/plain": [
       "DecisionTreeClassifier()"
      ]
     },
     "execution_count": 6,
     "metadata": {},
     "output_type": "execute_result"
    }
   ],
   "source": [
    "model2 = DecisionTreeClassifier(max_depth=None, max_features=None)\n",
    "model2.fit(Xtrain,Ytrain)"
   ]
  },
  {
   "cell_type": "code",
   "execution_count": 8,
   "id": "e4a9276d",
   "metadata": {},
   "outputs": [
    {
     "name": "stdout",
     "output_type": "stream",
     "text": [
      "f1_score for train: 0.9842194067385992\n"
     ]
    }
   ],
   "source": [
    "ypred = model2.predict(Xtrain)\n",
    "f1score = f1_score(Ytrain, np.round(ypred))\n",
    "print('f1_score for train:',f1score)\n",
    "\n",
    "ypred1 = model2.predict(Xtest)\n"
   ]
  },
  {
   "cell_type": "code",
   "execution_count": 10,
   "id": "b5a88ebf",
   "metadata": {},
   "outputs": [],
   "source": [
    "y_pred2 = pd.DataFrame(ypred1)"
   ]
  },
  {
   "cell_type": "code",
   "execution_count": 11,
   "id": "f69dfe6a",
   "metadata": {},
   "outputs": [],
   "source": [
    "y_pred2.to_csv('C:\\\\Users\\\\adwai\\\\OneDrive\\\\Desktop\\\\y_pred2.csv', index=True)"
   ]
  }
 ],
 "metadata": {
  "kernelspec": {
   "display_name": "Python 3.9.12 ('base')",
   "language": "python",
   "name": "python3"
  },
  "language_info": {
   "codemirror_mode": {
    "name": "ipython",
    "version": 3
   },
   "file_extension": ".py",
   "mimetype": "text/x-python",
   "name": "python",
   "nbconvert_exporter": "python",
   "pygments_lexer": "ipython3",
   "version": "3.9.12"
  },
  "vscode": {
   "interpreter": {
    "hash": "f3a52463084db90f96d29dcfcfd9bf276dba3c521d76c4c38c835392b64a093b"
   }
  }
 },
 "nbformat": 4,
 "nbformat_minor": 5
}
